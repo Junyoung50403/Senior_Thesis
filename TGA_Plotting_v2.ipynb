{
  "cells": [
    {
      "cell_type": "markdown",
      "metadata": {
        "id": "view-in-github",
        "colab_type": "text"
      },
      "source": [
        "<a href=\"https://colab.research.google.com/github/Junyoung50403/Senior_Thesis/blob/main/TGA_Plotting_v2.ipynb\" target=\"_parent\"><img src=\"https://colab.research.google.com/assets/colab-badge.svg\" alt=\"Open In Colab\"/></a>"
      ]
    },
    {
      "cell_type": "markdown",
      "metadata": {
        "id": "_hyMQJHWUNMx"
      },
      "source": [
        "# Dependencies & Functions\n",
        "Run this block before proceeding with anything else."
      ]
    },
    {
      "cell_type": "code",
      "execution_count": null,
      "metadata": {
        "id": "vSUGOL-bKA_A"
      },
      "outputs": [],
      "source": [
        "import numpy as np\n",
        "import pandas as pd\n",
        "import matplotlib.pyplot as plt\n",
        "from google.colab import files\n",
        "import os\n",
        "import re\n",
        "import textwrap"
      ]
    },
    {
      "cell_type": "code",
      "source": [
        "# Matplotlib params\n",
        "plt.rcParams[\"font.weight\"] = \"bold\"  # Make all text bold\n",
        "plt.rcParams[\"axes.labelweight\"] = \"bold\"  # Bold x and y axis labels\n",
        "plt.rcParams[\"axes.titleweight\"] = \"bold\"  # Bold title\n",
        "plt.rcParams['axes.labelsize'] = 14  # Increase x and y axis label size\n",
        "plt.rcParams['xtick.labelsize'] = 12  # Increase x-axis tick labels\n",
        "plt.rcParams['ytick.labelsize'] = 12  # Increase y-axis tick labels\n",
        "plt.rcParams['axes.linewidth'] = 2  # Increase plot box border thickness\n",
        "plt.rcParams[\"xtick.major.width\"] = 2  # Make x-tick lines thicker\n",
        "plt.rcParams[\"ytick.major.width\"] = 2  # Make y-tick lines thicker\n",
        "plt.rcParams['font.family'] = 'DejaVu Sans'"
      ],
      "metadata": {
        "id": "pclLBMZyrwI9"
      },
      "execution_count": null,
      "outputs": []
    },
    {
      "cell_type": "code",
      "execution_count": null,
      "metadata": {
        "id": "UJLJIRVLSUs5"
      },
      "outputs": [],
      "source": [
        "# Parses through one or more TGA data files, cleaning and saving all datasets #\n",
        "def parse_runs():\n",
        "  runs = {}\n",
        "  names = {}\n",
        "  masses = {}\n",
        "  Hdens = {}\n",
        "  water = {}\n",
        "  i = 1\n",
        "  uploaded_files = files.upload()\n",
        "\n",
        "  keep = input(\"Use sheet names as labels? (y/n): \")\n",
        "\n",
        "  for filename in uploaded_files.keys():\n",
        "    sheets = pd.read_excel(filename, skiprows=4,sheet_name=None)\n",
        "    for id in sheets.keys():\n",
        "      df = sheets[id].copy()\n",
        "      df = df.dropna(axis=1)\n",
        "      df.drop(df.columns[2], axis=1, inplace=True)\n",
        "      df.drop(df.columns[5], axis=1, inplace=True)\n",
        "      df.columns = [\"t\", \"wt\", \"dwt\", \"T\", \"Twtp\", \"Twt\"]\n",
        "      df.t = df.t / 60\n",
        "      runs[len(runs) + 1] = df\n",
        "      if (keep != \"y\"):\n",
        "        names[len(names) + 1] = input(\"Enter a label for \" + id + \": \")\n",
        "      else:\n",
        "        names[len(names) + 1] = id\n",
        "      masses[len(masses) + 1] = df[\"Twt\"][len(df[\"Twt\"]) - 1]\n",
        "      Hdens[len(Hdens) + 1] = float(input(\"Acid site density for \" + id + \": \"))\n",
        "      i += 1\n",
        "\n",
        "  return runs, names, masses, Hdens"
      ]
    },
    {
      "cell_type": "code",
      "execution_count": null,
      "metadata": {
        "id": "i1Y8YluDaxub"
      },
      "outputs": [],
      "source": [
        "# Auxiliary function for shortening file names #\n",
        "def short(filename):\n",
        "    shortened_name = re.sub(r'^\\d{4}\\.\\d{2}\\.\\d{2} ', '', filename)\n",
        "    shortened_name = shortened_name.replace('.xlsx', '')\n",
        "    return shortened_name"
      ]
    },
    {
      "cell_type": "code",
      "execution_count": null,
      "metadata": {
        "id": "CgL6X13fM5As"
      },
      "outputs": [],
      "source": [
        "# Produces a 2x2 subplot display for a given run #\n",
        "def single_plot(df, x=7):\n",
        "  fig, ax = plt.subplots(2, 2, figsize=(x, 10*(x/7)))\n",
        "  ax[0, 0].plot(df.t, df.wt)\n",
        "  ax[0, 0].set_title(\"Weight % vs. Time\")\n",
        "  ax[0, 0].set_xlabel(\"Time [h]\")\n",
        "  ax[0, 0].set_ylabel(\"Weight [%]\")\n",
        "\n",
        "  ax[0, 1].plot(df.t, df.dwt)\n",
        "  ax[0, 1].set_title(\"Derivative Weight Loss vs. Time\")\n",
        "  ax[0, 1].set_xlabel(\"Time [h]\")\n",
        "  ax[0, 1].set_ylabel(\"Weight Loss [%/min]\")\n",
        "\n",
        "  ax[1, 0].plot(df[\"T\"], df.Twtp)\n",
        "  ax[1, 0].set_title(\"Weight % vs. Temperature\")\n",
        "  ax[1, 0].set_xlabel(\"Temperature [°C]\")\n",
        "  ax[1, 0].set_ylabel(\"Weight [%]\")\n",
        "\n",
        "  ax[1, 1].plot(df[\"T\"], df.Twt)\n",
        "  ax[1, 1].set_title(\"Weight vs. Temperature\")\n",
        "  ax[1, 1].set_xlabel(\"Temperature [°C]\")\n",
        "  ax[1, 1].set_ylabel(\"Weight [mg]\")\n",
        "\n",
        "  plt.tight_layout()"
      ]
    },
    {
      "cell_type": "code",
      "execution_count": null,
      "metadata": {
        "id": "0Bf6DXtwZ-Aj"
      },
      "outputs": [],
      "source": [
        "# Produces an overlaid multiplot for given runs #\n",
        "def multi_plot(runs, names, x=7):\n",
        "  ids = input(\"Enter numbers separated by a space: \").split()\n",
        "  ids = [int(id) for id in ids]\n",
        "  fig, ax = plt.subplots(2, 2, figsize=(x, 10*(x/7)))\n",
        "  ax[0, 0].set_title(\"Weight % vs. Time\")\n",
        "  ax[0, 0].set_xlabel(\"Time [h]\")\n",
        "  ax[0, 0].set_ylabel(\"Weight [%]\")\n",
        "  ax[0, 1].set_title(\"Derivative Weight Loss vs. Time\")\n",
        "  ax[0, 1].set_xlabel(\"Time [h]\")\n",
        "  ax[0, 1].set_ylabel(\"Weight Loss [%/min]\")\n",
        "  ax[1, 0].set_title(\"Weight % vs. Temperature\")\n",
        "  ax[1, 0].set_xlabel(\"Temperature [°C]\")\n",
        "  ax[1, 0].set_ylabel(\"Weight [%]\")\n",
        "  ax[1, 1].set_title(\"Weight vs. Temperature\")\n",
        "  ax[1, 1].set_xlabel(\"Temperature [°C]\")\n",
        "  ax[1, 1].set_ylabel(\"Weight [mg]\")\n",
        "  for i in ids:\n",
        "    st = runs[i][runs[i][\"T\"] == 150].last_valid_index()\n",
        "    ed = runs[i][runs[i][\"T\"] == 600].last_valid_index()\n",
        "    st = 0\n",
        "\n",
        "    edd = runs[i][runs[i]['t'] > runs[i].t[st] + 300].first_valid_index()\n",
        "\n",
        "    ax[0, 0].plot(runs[i].t[st:ed] - runs[i].t[st], runs[i].wt[st:ed], label=names[i])\n",
        "    ax[0, 1].plot(runs[i].t[st:ed] - runs[i].t[st], runs[i].dwt[st:ed], label=names[i])\n",
        "    ax[1, 0].plot(runs[i][\"T\"][st:ed], runs[i].Twtp[st:ed], label=names[i])\n",
        "    ax[1, 1].plot(runs[i][\"T\"][st:ed], runs[i].Twt[st:ed], label=names[i])\n",
        "  plt.tight_layout()\n",
        "  ax[0, 0].legend()\n",
        "  ax[0, 1].legend()\n",
        "  ax[1, 0].legend()\n",
        "  ax[1, 1].legend()\n"
      ]
    },
    {
      "cell_type": "code",
      "source": [
        "# Derivative Weight Loss Curve with Support for Averages\n",
        "def dwts(runs, names, x=7):\n",
        "    ids = input(\"Enter numbers separated by a space: \").split()\n",
        "    window = int(input(\"Input end time for window: \"))\n",
        "    fig, ax = plt.subplots(figsize=(x, 10 * (x / 7)))\n",
        "    ax.set_title(\"Derivative Weight Loss vs. Time\")\n",
        "    ax.set_xlabel(\"Time [min]\")\n",
        "\n",
        "    for i in ids:\n",
        "        # Find the runs to average\n",
        "        toAvg = i.split(',')\n",
        "        toAvg = [int(a) for a in toAvg]\n",
        "\n",
        "        count = 0\n",
        "        total = None\n",
        "\n",
        "        for tA in toAvg:\n",
        "            count += 1\n",
        "            if total is None:\n",
        "                total = runs[tA].dwt\n",
        "            else:\n",
        "                total += runs[tA].dwt\n",
        "\n",
        "        avg = total / count  # Average the dwt values across selected runs\n",
        "\n",
        "        # Find the start and end index for plotting\n",
        "        st = runs[toAvg[0]][runs[toAvg[0]][\"T\"] == 150].last_valid_index()\n",
        "        ed = runs[toAvg[0]][runs[toAvg[0]][\"T\"] == 600].last_valid_index()\n",
        "\n",
        "        dwted = runs[toAvg[0]][runs[toAvg[0]]['t'] > runs[toAvg[0]]['t'][st] + window].first_valid_index()\n",
        "\n",
        "        # Find the index of the minimum value in the selected range\n",
        "        min_idx = avg.iloc[st:dwted].idxmin()  # Get index of min value in avg\n",
        "\n",
        "        # Get corresponding time for plotting\n",
        "        min_time = runs[toAvg[0]].t[min_idx] - runs[toAvg[0]].t[st]\n",
        "        min_value = avg[min_idx]\n",
        "\n",
        "        # Plot the desired range using avg (average dwt) and time range\n",
        "        ax.plot(runs[toAvg[0]].t.iloc[min_idx:dwted] - runs[toAvg[0]].t[st], avg.iloc[min_idx:dwted], label=names[toAvg[0]], alpha=1)\n",
        "\n",
        "        # Plot the minimum point\n",
        "        ax.scatter(min_time, min_value, zorder=3, marker='s')\n",
        "\n",
        "    ax.invert_yaxis()\n",
        "    plt.tight_layout()\n",
        "    ax.legend()\n",
        "    plt.show()"
      ],
      "metadata": {
        "id": "nElGJbcKexUZ"
      },
      "execution_count": null,
      "outputs": []
    },
    {
      "cell_type": "code",
      "execution_count": null,
      "metadata": {
        "id": "5x8KK8kjq-_S"
      },
      "outputs": [],
      "source": [
        "def copy_until_first_occurrence(df):\n",
        "    # Find the first occurrence of the value in the specified column\n",
        "    first_occurrence_idx = df[df['T'] == 600].first_valid_index()\n",
        "    return df.iloc[:first_occurrence_idx+1].copy()"
      ]
    },
    {
      "cell_type": "code",
      "execution_count": null,
      "metadata": {
        "id": "6W96Hzhbv7Pa"
      },
      "outputs": [],
      "source": [
        "# Return notable indices (start, end, start_coke, end_coke) #\n",
        "def find_indices_fixed(df, T):\n",
        "    # Find the index where T == 250 (start of the reaction, if fixed 250 C rxn)\n",
        "    start = df[df['T'] == T].first_valid_index()\n",
        "\n",
        "    dfc = copy_until_first_occurrence(df)\n",
        "\n",
        "    end = dfc[(dfc['dwt'] > -0.01) & (dfc['dwt'] < 0) & (dfc['T'] == T)].first_valid_index()\n",
        "    if end == None:\n",
        "        end = df[df['T'] == T].last_valid_index()\n",
        "\n",
        "\n",
        "    coke = df[df['T'] == 600]\n",
        "\n",
        "    stc = coke.first_valid_index()\n",
        "    ecd = coke.last_valid_index()\n",
        "\n",
        "    return start, end, stc, ecd"
      ]
    },
    {
      "cell_type": "code",
      "execution_count": null,
      "metadata": {
        "id": "upFJGyPIiy-P"
      },
      "outputs": [],
      "source": [
        "# Return notable indices (start, end, start_coke, end_coke) #\n",
        "def find_indices_ramp(df):\n",
        "    # Find the index where T == 150 (start of the reaction, if linear ramp rxn)\n",
        "    start = df[df['T'] == 150].last_valid_index()\n",
        "\n",
        "    dfc = copy_until_first_occurrence(df)\n",
        "\n",
        "    end = dfc[(dfc['dwt'] > -0.01) & (dfc['dwt'] < 0) & (dfc['T'] < 600)].last_valid_index()\n",
        "    if end == None:\n",
        "        end = df[df['T'] == 250].last_valid_index()\n",
        "\n",
        "\n",
        "    coke = df[df['T'] == 600]\n",
        "\n",
        "    stc = coke.first_valid_index()\n",
        "    ecd = coke.last_valid_index()\n",
        "\n",
        "    return start, end, stc, ecd"
      ]
    },
    {
      "cell_type": "code",
      "execution_count": null,
      "metadata": {
        "id": "bzc4yhCDkkvf"
      },
      "outputs": [],
      "source": [
        "def find_conversions(isFixed=True):\n",
        "  T = float(input(\"Input desired temperature: \"))\n",
        "  ids = input(\"Enter numbers separated by a space: \").split()\n",
        "  ids = [int(id) for id in ids]\n",
        "  name = []\n",
        "  conv = []\n",
        "  for i in ids:\n",
        "    st, ed, stc, edc = 0, 0, 0, 0\n",
        "\n",
        "    if (isFixed):\n",
        "      st, ed, stc, edc = find_indices_fixed(runs[i], T)\n",
        "    else:\n",
        "      st, ed, stc, edc = find_indices_ramp(runs[i])\n",
        "\n",
        "    name.append(names[i])\n",
        "    conv.append((runs[i]['Twt'][st] - runs[i]['Twt'][ed]) / runs[i]['Twt'][st])\n",
        "  # Create the bar chart\n",
        "  fig, ax = plt.subplots(figsize=(7.2,4.8))\n",
        "  bars = ax.bar(name, conv, color='skyblue', edgecolor='black', hatch='//', linewidth=2)  # Add edgecolor for outline\n",
        "\n",
        "  ax = plt.gca()\n",
        "  ax.set_xticks(range(len(name)))\n",
        "  ax.set_xticklabels([textwrap.fill(n, width=10) for n in name], ha=\"center\")\n",
        "\n",
        "  # Set labels and title\n",
        "  ax.set_xlabel('Catalyst')\n",
        "  ax.set_ylabel('Solid Conversion [%]')\n",
        "  ax.set_title('Solid Conversions')\n",
        "  #ax.set_ylim(0.7,0.9)\n",
        "\n",
        "  # Display the plot\n",
        "  plt.show()"
      ]
    },
    {
      "cell_type": "code",
      "execution_count": null,
      "metadata": {
        "id": "EjnWyKtsAMEH"
      },
      "outputs": [],
      "source": [
        "def find_coke(isFixed=True):\n",
        "  feed = input(\"Reactant Molecule: \")\n",
        "  T = float(input(\"Input desired temperature: \"))\n",
        "  ids = input(\"Enter numbers separated by a space: \").split()\n",
        "  ids = [int(id) for id in ids]\n",
        "  name = []\n",
        "  conv = []\n",
        "  ratios = []\n",
        "  for i in ids:\n",
        "    st, ed, stc, edc = 0, 0, 0, 0\n",
        "\n",
        "    if (isFixed):\n",
        "      st, ed, stc, edc = find_indices_fixed(runs[i], T)\n",
        "    else:\n",
        "      st, ed, stc, edc = find_indices_ramp(runs[i])\n",
        "\n",
        "    PE = runs[i]['Twt'][st] - runs[i]['Twt'][edc]\n",
        "    ratios.append(PE / masses[i])\n",
        "\n",
        "    name.append(names[i])\n",
        "    conv.append((runs[i]['Twt'][stc] - runs[i]['Twt'][edc]) / masses[i])\n",
        "  # Create the bar chart\n",
        "  fig, ax = plt.subplots(figsize=(7.2,4.8))\n",
        "  bars = ax.bar(name, conv, color='skyblue', edgecolor='black', hatch='//', linewidth=2)  # Add edgecolor for outline\n",
        "\n",
        "  ax = plt.gca()\n",
        "  ax.set_xticks(range(len(name)))\n",
        "  ax.set_xticklabels([textwrap.fill(n, width=10) for n in name], ha=\"center\")\n",
        "\n",
        "  # Secondary Y-axis\n",
        "  ax2 = ax.twinx()\n",
        "  ax2.scatter(name, ratios, color='lightgray', marker='s', zorder=3, edgecolor='black', s=100, linewidth=1.2)\n",
        "  ax2.set_ylabel(f\"{feed}:Catalyst Ratio\", color='gray')\n",
        "\n",
        "  ax2.tick_params(axis='y', colors=\"gray\")  # Change tick color\n",
        "  ax2.spines[\"right\"].set_color(\"gray\")  # Change right spine color\n",
        "\n",
        "\n",
        "  # Set labels and title\n",
        "  ax.set_xlabel('Catalyst')\n",
        "  ax.set_ylabel('Mass of coke (Mass of catalyst)^-1')\n",
        "  ax.set_title('Coke Masses')\n",
        "  #ax.set_ylim(0.7,0.9)\n",
        "\n",
        "  # Display the plot\n",
        "  plt.show()"
      ]
    },
    {
      "cell_type": "code",
      "execution_count": null,
      "metadata": {
        "id": "-6mWMSEDa_Nv"
      },
      "outputs": [],
      "source": [
        "# Normalized solid conversions\n",
        "def norm_conversions(isFixed=True):\n",
        "  T = float(input(\"Input desired temperature: \"))\n",
        "  ids = input(\"Enter numbers separated by a space: \").split()\n",
        "  ids = [int(id) for id in ids]\n",
        "  name = []\n",
        "  conv = []\n",
        "  for i in ids:\n",
        "    st, ed, stc, edc = 0, 0, 0, 0\n",
        "\n",
        "    if (isFixed):\n",
        "      st, ed, stc, edc = find_indices_fixed(runs[i], T)\n",
        "    else:\n",
        "      st, ed, stc, edc = find_indices_ramp(runs[i])\n",
        "\n",
        "    name.append(names[i])\n",
        "    conv.append(((runs[i]['Twt'][st] - runs[i]['Twt'][ed]) / 1000) / (masses[i] * (Hdens[i] / (1000 * 1000)) * ((runs[i]['t'][ed] - runs[i]['t'][st])/60)))\n",
        "  # Create the bar chart\n",
        "  fig, ax = plt.subplots(figsize=(7.2,4.8))\n",
        "  bars = ax.bar(name, conv, color='skyblue', edgecolor='black', hatch='//', linewidth=2)  # Add edgecolor for outline\n",
        "\n",
        "  ax = plt.gca()\n",
        "  ax.set_xticks(range(len(name)))\n",
        "  ax.set_xticklabels([textwrap.fill(n, width=10) for n in name], ha=\"center\")\n",
        "\n",
        "  # Set labels and title\n",
        "  ax.set_xlabel('Catalyst')\n",
        "  ax.set_ylabel('Solid Conversion Rate \\n (g consumed) (mol BAS * h)^-1')\n",
        "  ax.set_title('Conversion Rates')\n",
        "  #ax.set_ylim(0.7,0.9)\n",
        "\n",
        "  # Display the plot\n",
        "  plt.show()"
      ]
    },
    {
      "cell_type": "code",
      "execution_count": null,
      "metadata": {
        "id": "aUuqGdnZbh_-"
      },
      "outputs": [],
      "source": [
        "# Find partial conversion indices\n",
        "# Return notable indices (start, end, start_coke, end_coke) #\n",
        "def find_partial_indices_fixed(df, x, T=250):\n",
        "    # Find the index where T == 250 (start of the reaction, if fixed 250 C rxn)\n",
        "    start = df[df['T'] == T].first_valid_index()\n",
        "\n",
        "    dfc = copy_until_first_occurrence(df)\n",
        "\n",
        "    startWeight = df['Twt'][start]\n",
        "    endWeight = startWeight * (1-x)\n",
        "\n",
        "    end = dfc[(dfc['Twt'] <= endWeight) & (dfc['T'] == T)].first_valid_index()\n",
        "    if end == None:\n",
        "        end = df[df['T'] == T].last_valid_index()\n",
        "\n",
        "\n",
        "    coke = df[df['T'] == 600]\n",
        "\n",
        "    stc = coke.first_valid_index()\n",
        "    ecd = coke.last_valid_index()\n",
        "\n",
        "    return start, end, stc, ecd"
      ]
    },
    {
      "cell_type": "code",
      "execution_count": null,
      "metadata": {
        "id": "_rXSXfaD07zo"
      },
      "outputs": [],
      "source": [
        "# Normalized PARTIAL solid conversions\n",
        "def norm_partial_conversions():\n",
        "  x = float(input(\"Input desired partial conversion fraction: \"))\n",
        "  T = float(input(\"Input desired temperature: \"))\n",
        "  ids = input(\"Enter numbers separated by a space: \").split()\n",
        "  ids = [int(id) for id in ids]\n",
        "  name = []\n",
        "  conv = []\n",
        "  for i in ids:\n",
        "    st, ed, stc, edc = 0, 0, 0, 0\n",
        "    st, ed, stc, edc = find_partial_indices_fixed(runs[i], x, T)\n",
        "    name.append(names[i])\n",
        "    conv.append(((runs[i]['Twt'][st] - runs[i]['Twt'][ed]) / 1000) / (masses[i] * (Hdens[i] / (1000 * 1000)) * ((runs[i]['t'][ed] - runs[i]['t'][st])/60)))\n",
        "  # Create the bar chart\n",
        "  fig, ax = plt.subplots(figsize=(7.2,4.8))\n",
        "  bars = ax.bar(name, conv, color='skyblue', edgecolor='black', hatch='//', linewidth=2)  # Add edgecolor for outline\n",
        "\n",
        "  ax = plt.gca()\n",
        "  ax.set_xticks(range(len(name)))\n",
        "  ax.set_xticklabels([textwrap.fill(n, width=10) for n in name], ha=\"center\")\n",
        "\n",
        "  # Set labels and title\n",
        "  ax.set_xlabel('Catalyst')\n",
        "  ax.set_ylabel('Solid Conversion Rate \\n (g consumed) (mol BAS * h)^-1')\n",
        "  ax.set_title('Conversion Rates')\n",
        "  #ax.set_ylim(0.7,0.9)\n",
        "\n",
        "  # Display the plot\n",
        "  plt.show()"
      ]
    },
    {
      "cell_type": "code",
      "source": [
        "# Conversion Rates vs. Conversion %\n",
        "def conv_scatter(isFixed=True):\n",
        "  T = float(input(\"Input desired temperature: \"))\n",
        "  ids = input(\"Enter numbers separated by a space: \").split()\n",
        "  ids = [int(id) for id in ids]\n",
        "  name = []\n",
        "  conv = []\n",
        "\n",
        "  fig, ax = plt.subplots(figsize=(7.2,4.8))\n",
        "\n",
        "  for i in ids:\n",
        "    st, ed, stc, edc = 0, 0, 0, 0\n",
        "\n",
        "    if (isFixed):\n",
        "      st, ed, stc, edc = find_indices_fixed(runs[i], T)\n",
        "    else:\n",
        "      st, ed, stc, edc = find_indices_ramp(runs[i])\n",
        "\n",
        "    norm_conv = (((runs[i]['Twt'][st] - runs[i]['Twt'][ed]) / 1000) / (masses[i] * (Hdens[i] / (1000 * 1000)) * (runs[i]['t'][ed] - runs[i]['t'][st])))\n",
        "\n",
        "    conv = ((runs[i]['Twt'][st] - runs[i]['Twt'][ed]) / runs[i]['Twt'][st])\n",
        "\n",
        "    ax.scatter(conv, norm_conv, label=names[i], linestyle='', marker='D')\n",
        "\n",
        "\n",
        "  # Set labels and title\n",
        "  ax.set_xlabel('Total Conversion (%)')\n",
        "  ax.set_ylabel('Solid Conversion Rate \\n (g consumed) (mol BAS * h)^-1')\n",
        "  ax.set_title('Conversion Rates')\n",
        "  ax.legend(loc=\"upper left\", bbox_to_anchor=(1, 1))\n",
        "  #ax.set_ylim(0.7,0.9)\n",
        "\n",
        "  # Display the plot\n",
        "  plt.show()"
      ],
      "metadata": {
        "id": "juP6J-p4nv7J"
      },
      "execution_count": null,
      "outputs": []
    },
    {
      "cell_type": "code",
      "source": [
        "# Normalized solid conversions\n",
        "def water(isFixed=True):\n",
        "  T = float(input(\"Input desired temperature: \"))\n",
        "  ids = input(\"Enter numbers separated by a space: \").split()\n",
        "  ids = [int(id) for id in ids]\n",
        "  name = []\n",
        "  conv = []\n",
        "  for i in ids:\n",
        "    st, ed, stc, edc = 0, 0, 0, 0\n",
        "\n",
        "    if (isFixed):\n",
        "      st, ed, stc, edc = find_indices_fixed(runs[i], T)\n",
        "    else:\n",
        "      st, ed, stc, edc = find_indices_ramp(runs[i], T)\n",
        "\n",
        "    name.append(names[i])\n",
        "    conv.append(((runs[i]['Twt'][st] - runs[i]['Twt'][ed]) / 1000) / (masses[i] * (Hdens[i] / (1000 * 1000)) * (runs[i]['t'][ed] - runs[i]['t'][st])))\n",
        "  # Create the bar chart\n",
        "  fig, ax = plt.subplots(figsize=(7.2,4.8))\n",
        "  bars = ax.bar(name, conv, color='skyblue', edgecolor='black', hatch='//')  # Add edgecolor for outline\n",
        "\n",
        "  ax = plt.gca()\n",
        "  ax.set_xticks(range(len(name)))\n",
        "  ax.set_xticklabels([textwrap.fill(n, width=10) for n in name], ha=\"center\")\n",
        "\n",
        "  # Set labels and title\n",
        "  ax.set_xlabel('Catalyst')\n",
        "  ax.set_ylabel('Solid Conversion Rate \\n (g consumed) (mol BAS * h)^-1')\n",
        "  ax.set_title('Conversion Rates')\n",
        "  #ax.set_ylim(0.7,0.9)\n",
        "\n",
        "  # Display the plot\n",
        "  plt.show()"
      ],
      "metadata": {
        "id": "bQF4meU8FPBy"
      },
      "execution_count": null,
      "outputs": []
    },
    {
      "cell_type": "code",
      "source": [
        "# Mass-normalized conversions\n",
        "def mass_norm_conversions(isFixed=True):\n",
        "  T = float(input(\"Input desired temperature: \"))\n",
        "  ids = input(\"Enter numbers separated by a space: \").split()\n",
        "  ids = [int(id) for id in ids]\n",
        "  name = []\n",
        "  conv = []\n",
        "  for i in ids:\n",
        "    st, ed, stc, edc = 0, 0, 0, 0\n",
        "\n",
        "    if (isFixed):\n",
        "      st, ed, stc, edc = find_indices_fixed(runs[i], T)\n",
        "    else:\n",
        "      st, ed, stc, edc = find_indices_ramp(runs[i])\n",
        "\n",
        "    name.append(names[i])\n",
        "    conv.append(((runs[i]['Twt'][st] - runs[i]['Twt'][ed]) / 1000) / ((masses[i] / 1000) * ((runs[i]['t'][ed] - runs[i]['t'][st])/60)))\n",
        "    print(((runs[i]['Twt'][st] - runs[i]['Twt'][ed]) / 1000) / ((masses[i] / 1000) * ((runs[i]['t'][ed] - runs[i]['t'][st])/60)))\n",
        "  # Create the bar chart\n",
        "  fig, ax = plt.subplots(figsize=(7.2,4.8))\n",
        "  bars = ax.bar(name, conv, color='skyblue', edgecolor='black', hatch='//', linewidth=2)  # Add edgecolor for outline\n",
        "\n",
        "  ax = plt.gca()\n",
        "  ax.set_xticks(range(len(name)))\n",
        "  ax.set_xticklabels([textwrap.fill(n, width=10) for n in name], ha=\"center\")\n",
        "\n",
        "  # Set labels and title\n",
        "  ax.set_xlabel('Catalyst')\n",
        "  ax.set_ylabel('Solid Conversion Rate \\n (g consumed) (g catalyst * h)^-1')\n",
        "  ax.set_title('Conversion Rates')\n",
        "  #ax.set_ylim(0.7,0.9)\n",
        "\n",
        "  # Display the plot\n",
        "  plt.show()"
      ],
      "metadata": {
        "id": "qQUnqCcLYgFJ"
      },
      "execution_count": null,
      "outputs": []
    },
    {
      "cell_type": "markdown",
      "metadata": {
        "id": "2QXlp5kUU9fn"
      },
      "source": [
        "# Uploading TGA Data\n",
        "The first block MUST be run, in order for files to be uploaded and processed. Afterwards, the second block is an optional block that lists ID numbers and associated TGA runs."
      ]
    },
    {
      "cell_type": "code",
      "execution_count": null,
      "metadata": {
        "id": "oxm8EfWXVDTS"
      },
      "outputs": [],
      "source": [
        "# Run this block to upload one or more TGA data files #\n",
        "runs, names, masses, Hdens = parse_runs()"
      ]
    },
    {
      "cell_type": "code",
      "execution_count": null,
      "metadata": {
        "id": "_i3eepLmYrQ7"
      },
      "outputs": [],
      "source": [
        "# Run this block to generate a directory of uploaded files #\n",
        "count = 1\n",
        "print(\"\\033[4m#\\033[0m\",\"   \\033[4mSample Name\\033[0m\")\n",
        "for name in names:\n",
        "  print(count,\"::\",names[name])\n",
        "  count += 1"
      ]
    },
    {
      "cell_type": "markdown",
      "metadata": {
        "id": "OYSI8-VJY4CG"
      },
      "source": [
        "# Single Plots\n",
        "Inbuilt support for single plots. Run the block to interactively produce a plot for a given TGA run. Do not modify the code (except to change the scaling constant); simply run the block to begin the process."
      ]
    },
    {
      "cell_type": "code",
      "execution_count": null,
      "metadata": {
        "id": "iQfmgaRwY7wB"
      },
      "outputs": [],
      "source": [
        "# This function produces a single plot for the ID number entered when prompted #\n",
        "# Change the constant argument to rescale the plot\n",
        "single_plot(runs[int(input(\"Enter run number: \"))], 7)"
      ]
    },
    {
      "cell_type": "markdown",
      "metadata": {
        "id": "PxulBLwrZ2qz"
      },
      "source": [
        "# Multi Plots\n",
        "Inbuilt support for multi-plots. Run the block to interactively produce a set of graphs with overlaid plots from the chosen runs. Do not modify the code (except to change the scaling constant); simply run the block to begin the process."
      ]
    },
    {
      "cell_type": "code",
      "execution_count": null,
      "metadata": {
        "id": "Aao1vyXCZ5Ip"
      },
      "outputs": [],
      "source": [
        "# This function overlays all plots of runs entered when prompted #\n",
        "# Change the constant argument to rescale the plot\n",
        "multi_plot(runs, names, 9)"
      ]
    },
    {
      "cell_type": "markdown",
      "metadata": {
        "id": "zZASPeao171t"
      },
      "source": [
        "# Higher-Order Data (Conversion, Coke, etc.)"
      ]
    },
    {
      "cell_type": "code",
      "execution_count": null,
      "metadata": {
        "id": "qzv89z4YpKbn"
      },
      "outputs": [],
      "source": [
        "find_conversions()"
      ]
    },
    {
      "cell_type": "code",
      "execution_count": null,
      "metadata": {
        "id": "xHebbpvvBmlI"
      },
      "outputs": [],
      "source": [
        "find_coke()"
      ]
    },
    {
      "cell_type": "code",
      "execution_count": null,
      "metadata": {
        "id": "pwz247EdchTT"
      },
      "outputs": [],
      "source": [
        "norm_conversions()"
      ]
    },
    {
      "cell_type": "markdown",
      "metadata": {
        "id": "-Nx7IXZoLLyV"
      },
      "source": [
        "# Debugging Tools"
      ]
    },
    {
      "cell_type": "code",
      "execution_count": null,
      "metadata": {
        "id": "bDjOilqdLQMn"
      },
      "outputs": [],
      "source": [
        "for i in range(1, len(names) + 1):\n",
        "  st, ed, stc, edc = find_indices_fixed(runs[i])\n",
        "  print(\"Solid Conversion: \", (runs[i]['Twt'][st] - runs[i]['Twt'][ed]) / runs[i]['Twt'][st])\n",
        "\n",
        "for i in range(1, len(names) + 1):\n",
        "  st, ed, stc, edc = find_indices_fixed(runs[i])\n",
        "  print(\"Coke Mass: \", (runs[i]['Twt'][stc] - runs[i]['Twt'][edc]))\n",
        "\n",
        "for i in range(1, len(names) + 1):\n",
        "  print(find_indices_fixed(runs[i]))\n",
        "  print(Hdens[i])\n",
        "  print(masses[i])"
      ]
    },
    {
      "cell_type": "code",
      "execution_count": null,
      "metadata": {
        "id": "QQrZr6hC022_"
      },
      "outputs": [],
      "source": [
        "norm_partial_conversions()"
      ]
    },
    {
      "cell_type": "code",
      "source": [
        "\n",
        "dwts(runs, names, 5)"
      ],
      "metadata": {
        "id": "fAxFKAhRfBVE"
      },
      "execution_count": null,
      "outputs": []
    },
    {
      "cell_type": "code",
      "source": [
        "conv_scatter(True)"
      ],
      "metadata": {
        "id": "-V0UmNz7p0H8"
      },
      "execution_count": null,
      "outputs": []
    },
    {
      "cell_type": "code",
      "source": [
        "mass_norm_conversions()"
      ],
      "metadata": {
        "id": "jBsTjCSbY7-T"
      },
      "execution_count": null,
      "outputs": []
    }
  ],
  "metadata": {
    "colab": {
      "collapsed_sections": [
        "_hyMQJHWUNMx"
      ],
      "provenance": [],
      "include_colab_link": true
    },
    "kernelspec": {
      "display_name": "Python 3",
      "name": "python3"
    },
    "language_info": {
      "name": "python"
    }
  },
  "nbformat": 4,
  "nbformat_minor": 0
}